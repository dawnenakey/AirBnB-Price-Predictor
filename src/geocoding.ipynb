{
 "cells": [
  {
   "cell_type": "code",
   "execution_count": 12,
   "metadata": {},
   "outputs": [],
   "source": [
    "import __init__ as init\n",
    "import google_api as g\n",
    "import requests\n",
    "import pandas as pd\n",
    "import numpy as np\n",
    "import sys\n",
    "import os"
   ]
  },
  {
   "cell_type": "markdown",
   "metadata": {},
   "source": [
    "# Notebook Set Up"
   ]
  },
  {
   "cell_type": "markdown",
   "metadata": {},
   "source": [
    "# Google API set up"
   ]
  },
  {
   "cell_type": "code",
   "execution_count": 4,
   "metadata": {},
   "outputs": [],
   "source": [
    "# Function to break get_address() response into components\n",
    "def parse_address(address_json):\n",
    "    address_components = {\n",
    "        'housenum_lo': address_json['address_components'][0]['long_name'],\n",
    "        'street_name': address_json['address_components'][1]['long_name'],\n",
    "        'neighborhood': address_json['address_components'][2]['long_name'],\n",
    "        'borough': address_json['address_components'][3]['long_name'],\n",
    "        'county': address_json['address_components'][4]['long_name'],\n",
    "        'zip_code': address_json['address_components'][7]['long_name']\n",
    "    }\n",
    "    return address_components\n"
   ]
  },
  {
   "cell_type": "markdown",
   "metadata": {},
   "source": [
    "# AirBNB\n",
    "\n",
    "* Take a sample of AirBNB listings weighted proportionally by borough.\n",
    "* Request addresses from Google, based on lat/long features.\n",
    "* Send addresses to OpenDataNYC for valuations.\n"
   ]
  },
  {
   "cell_type": "markdown",
   "metadata": {},
   "source": [
    "### Sample 10K"
   ]
  },
  {
   "cell_type": "markdown",
   "metadata": {},
   "source": [
    "### Call Google API - Reverse Geocoder"
   ]
  },
  {
   "cell_type": "code",
   "execution_count": 10,
   "metadata": {},
   "outputs": [],
   "source": [
    "# try first 1000 rows to avoid expense\n",
    "batch_1 = airbnb_sample.sort_index().iloc[0:1000]\n",
    "\n",
    "for i in batch_1:\n",
    "    print(i)"
   ]
  },
  {
   "cell_type": "code",
   "execution_count": 12,
   "metadata": {},
   "outputs": [
    {
     "data": {
      "text/html": [
       "<div>\n",
       "<style scoped>\n",
       "    .dataframe tbody tr th:only-of-type {\n",
       "        vertical-align: middle;\n",
       "    }\n",
       "\n",
       "    .dataframe tbody tr th {\n",
       "        vertical-align: top;\n",
       "    }\n",
       "\n",
       "    .dataframe thead th {\n",
       "        text-align: right;\n",
       "    }\n",
       "</style>\n",
       "<table border=\"1\" class=\"dataframe\">\n",
       "  <thead>\n",
       "    <tr style=\"text-align: right;\">\n",
       "      <th></th>\n",
       "      <th>latitude</th>\n",
       "      <th>longitude</th>\n",
       "      <th>room_type</th>\n",
       "      <th>accommodates</th>\n",
       "      <th>bedrooms</th>\n",
       "      <th>beds</th>\n",
       "      <th>price</th>\n",
       "      <th>minimum_nights</th>\n",
       "      <th>calendar_last_scraped</th>\n",
       "      <th>license</th>\n",
       "      <th>...</th>\n",
       "      <th>lock_on_bedroom_door</th>\n",
       "      <th>neighbourhood_group_cleansed_Bronx</th>\n",
       "      <th>neighbourhood_group_cleansed_Brooklyn</th>\n",
       "      <th>neighbourhood_group_cleansed_Manhattan</th>\n",
       "      <th>neighbourhood_group_cleansed_Queens</th>\n",
       "      <th>neighbourhood_group_cleansed_Staten Island</th>\n",
       "      <th>boroughs</th>\n",
       "      <th>frequencies</th>\n",
       "      <th>lat_long</th>\n",
       "      <th>address_response</th>\n",
       "    </tr>\n",
       "  </thead>\n",
       "  <tbody>\n",
       "    <tr>\n",
       "      <th>0</th>\n",
       "      <td>40.68457</td>\n",
       "      <td>-73.91181</td>\n",
       "      <td>Private room</td>\n",
       "      <td>1</td>\n",
       "      <td>1.0</td>\n",
       "      <td>1.0</td>\n",
       "      <td>65.0</td>\n",
       "      <td>30</td>\n",
       "      <td>2023-10-02</td>\n",
       "      <td>NaN</td>\n",
       "      <td>...</td>\n",
       "      <td>0</td>\n",
       "      <td>0</td>\n",
       "      <td>1</td>\n",
       "      <td>0</td>\n",
       "      <td>0</td>\n",
       "      <td>0</td>\n",
       "      <td>Brooklyn</td>\n",
       "      <td>18101</td>\n",
       "      <td>(40.68457, -73.91181)</td>\n",
       "      <td>{'address_components': [{'long_name': '983', '...</td>\n",
       "    </tr>\n",
       "    <tr>\n",
       "      <th>1</th>\n",
       "      <td>40.76878</td>\n",
       "      <td>-73.98719</td>\n",
       "      <td>Private room</td>\n",
       "      <td>2</td>\n",
       "      <td>1.0</td>\n",
       "      <td>1.0</td>\n",
       "      <td>110.0</td>\n",
       "      <td>30</td>\n",
       "      <td>2023-10-02</td>\n",
       "      <td>NaN</td>\n",
       "      <td>...</td>\n",
       "      <td>0</td>\n",
       "      <td>0</td>\n",
       "      <td>0</td>\n",
       "      <td>1</td>\n",
       "      <td>0</td>\n",
       "      <td>0</td>\n",
       "      <td>Manhattan</td>\n",
       "      <td>23563</td>\n",
       "      <td>(40.76878, -73.98719)</td>\n",
       "      <td>{'address_components': [{'long_name': '437', '...</td>\n",
       "    </tr>\n",
       "    <tr>\n",
       "      <th>3</th>\n",
       "      <td>40.68180</td>\n",
       "      <td>-73.93121</td>\n",
       "      <td>Entire home/apt</td>\n",
       "      <td>2</td>\n",
       "      <td>1.0</td>\n",
       "      <td>1.0</td>\n",
       "      <td>70.0</td>\n",
       "      <td>45</td>\n",
       "      <td>2023-10-02</td>\n",
       "      <td>NaN</td>\n",
       "      <td>...</td>\n",
       "      <td>0</td>\n",
       "      <td>0</td>\n",
       "      <td>1</td>\n",
       "      <td>0</td>\n",
       "      <td>0</td>\n",
       "      <td>0</td>\n",
       "      <td>Brooklyn</td>\n",
       "      <td>18101</td>\n",
       "      <td>(40.6818, -73.93121)</td>\n",
       "      <td>{'address_components': [{'long_name': '309', '...</td>\n",
       "    </tr>\n",
       "    <tr>\n",
       "      <th>6</th>\n",
       "      <td>40.72813</td>\n",
       "      <td>-73.98801</td>\n",
       "      <td>Private room</td>\n",
       "      <td>1</td>\n",
       "      <td>1.0</td>\n",
       "      <td>1.0</td>\n",
       "      <td>125.0</td>\n",
       "      <td>1</td>\n",
       "      <td>2023-10-02</td>\n",
       "      <td>NaN</td>\n",
       "      <td>...</td>\n",
       "      <td>1</td>\n",
       "      <td>0</td>\n",
       "      <td>0</td>\n",
       "      <td>1</td>\n",
       "      <td>0</td>\n",
       "      <td>0</td>\n",
       "      <td>Manhattan</td>\n",
       "      <td>23563</td>\n",
       "      <td>(40.72813, -73.98801)</td>\n",
       "      <td>{'address_components': [{'long_name': '120', '...</td>\n",
       "    </tr>\n",
       "    <tr>\n",
       "      <th>12</th>\n",
       "      <td>40.66262</td>\n",
       "      <td>-73.74880</td>\n",
       "      <td>Private room</td>\n",
       "      <td>1</td>\n",
       "      <td>1.0</td>\n",
       "      <td>1.0</td>\n",
       "      <td>75.0</td>\n",
       "      <td>30</td>\n",
       "      <td>2023-10-02</td>\n",
       "      <td>NaN</td>\n",
       "      <td>...</td>\n",
       "      <td>1</td>\n",
       "      <td>0</td>\n",
       "      <td>0</td>\n",
       "      <td>0</td>\n",
       "      <td>1</td>\n",
       "      <td>0</td>\n",
       "      <td>Queens</td>\n",
       "      <td>7437</td>\n",
       "      <td>(40.66262, -73.7488)</td>\n",
       "      <td>{'address_components': [{'long_name': '144-15'...</td>\n",
       "    </tr>\n",
       "  </tbody>\n",
       "</table>\n",
       "<p>5 rows × 29 columns</p>\n",
       "</div>"
      ],
      "text/plain": [
       "    latitude  longitude        room_type  accommodates  bedrooms  beds  price  \\\n",
       "0   40.68457  -73.91181     Private room             1       1.0   1.0   65.0   \n",
       "1   40.76878  -73.98719     Private room             2       1.0   1.0  110.0   \n",
       "3   40.68180  -73.93121  Entire home/apt             2       1.0   1.0   70.0   \n",
       "6   40.72813  -73.98801     Private room             1       1.0   1.0  125.0   \n",
       "12  40.66262  -73.74880     Private room             1       1.0   1.0   75.0   \n",
       "\n",
       "    minimum_nights calendar_last_scraped license  ...  lock_on_bedroom_door  \\\n",
       "0               30            2023-10-02     NaN  ...                     0   \n",
       "1               30            2023-10-02     NaN  ...                     0   \n",
       "3               45            2023-10-02     NaN  ...                     0   \n",
       "6                1            2023-10-02     NaN  ...                     1   \n",
       "12              30            2023-10-02     NaN  ...                     1   \n",
       "\n",
       "    neighbourhood_group_cleansed_Bronx  neighbourhood_group_cleansed_Brooklyn  \\\n",
       "0                                    0                                      1   \n",
       "1                                    0                                      0   \n",
       "3                                    0                                      1   \n",
       "6                                    0                                      0   \n",
       "12                                   0                                      0   \n",
       "\n",
       "    neighbourhood_group_cleansed_Manhattan  \\\n",
       "0                                        0   \n",
       "1                                        1   \n",
       "3                                        0   \n",
       "6                                        1   \n",
       "12                                       0   \n",
       "\n",
       "    neighbourhood_group_cleansed_Queens  \\\n",
       "0                                     0   \n",
       "1                                     0   \n",
       "3                                     0   \n",
       "6                                     0   \n",
       "12                                    1   \n",
       "\n",
       "    neighbourhood_group_cleansed_Staten Island   boroughs  frequencies  \\\n",
       "0                                            0   Brooklyn        18101   \n",
       "1                                            0  Manhattan        23563   \n",
       "3                                            0   Brooklyn        18101   \n",
       "6                                            0  Manhattan        23563   \n",
       "12                                           0     Queens         7437   \n",
       "\n",
       "                 lat_long                                   address_response  \n",
       "0   (40.68457, -73.91181)  {'address_components': [{'long_name': '983', '...  \n",
       "1   (40.76878, -73.98719)  {'address_components': [{'long_name': '437', '...  \n",
       "3    (40.6818, -73.93121)  {'address_components': [{'long_name': '309', '...  \n",
       "6   (40.72813, -73.98801)  {'address_components': [{'long_name': '120', '...  \n",
       "12   (40.66262, -73.7488)  {'address_components': [{'long_name': '144-15'...  \n",
       "\n",
       "[5 rows x 29 columns]"
      ]
     },
     "execution_count": 12,
     "metadata": {},
     "output_type": "execute_result"
    }
   ],
   "source": [
    "batch_1['address_response'] = batch_1['lat_long'].apply(lambda x: get_address(x))\n",
    "batch_1.head()"
   ]
  },
  {
   "cell_type": "code",
   "execution_count": 13,
   "metadata": {},
   "outputs": [],
   "source": [
    "batch_1.to_csv(data_dir + 'airbnb_sample.csv')"
   ]
  },
  {
   "cell_type": "code",
   "execution_count": 18,
   "metadata": {},
   "outputs": [
    {
     "data": {
      "text/plain": [
       "3331     5\n",
       "2717     6\n",
       "2421     6\n",
       "4816     7\n",
       "2059     7\n",
       "        ..\n",
       "1987    10\n",
       "3846    10\n",
       "1746    10\n",
       "3516    10\n",
       "4765    10\n",
       "Name: address_response, Length: 1000, dtype: int64"
      ]
     },
     "execution_count": 18,
     "metadata": {},
     "output_type": "execute_result"
    }
   ],
   "source": [
    "batch_1['address_response'].apply(lambda x: len(x['address_components'])).sort_values(ascending=True)"
   ]
  },
  {
   "cell_type": "code",
   "execution_count": 28,
   "metadata": {},
   "outputs": [
    {
     "data": {
      "text/plain": [
       "[{'long_name': '# 1', 'short_name': '# 1', 'types': ['subpremise']},\n",
       " {'long_name': '508', 'short_name': '508', 'types': ['street_number']},\n",
       " {'long_name': 'Hudson Street', 'short_name': 'Hudson St', 'types': ['route']},\n",
       " {'long_name': 'Manhattan',\n",
       "  'short_name': 'Manhattan',\n",
       "  'types': ['political', 'sublocality', 'sublocality_level_1']},\n",
       " {'long_name': 'New York',\n",
       "  'short_name': 'New York',\n",
       "  'types': ['locality', 'political']},\n",
       " {'long_name': 'New York County',\n",
       "  'short_name': 'New York County',\n",
       "  'types': ['administrative_area_level_2', 'political']},\n",
       " {'long_name': 'New York',\n",
       "  'short_name': 'NY',\n",
       "  'types': ['administrative_area_level_1', 'political']},\n",
       " {'long_name': 'United States',\n",
       "  'short_name': 'US',\n",
       "  'types': ['country', 'political']},\n",
       " {'long_name': '10014', 'short_name': '10014', 'types': ['postal_code']},\n",
       " {'long_name': '2854', 'short_name': '2854', 'types': ['postal_code_suffix']}]"
      ]
     },
     "execution_count": 28,
     "metadata": {},
     "output_type": "execute_result"
    }
   ],
   "source": [
    "batch_1.loc[4765,'address_response']['address_components']"
   ]
  }
 ],
 "metadata": {
  "kernelspec": {
   "display_name": "airbnbenv",
   "language": "python",
   "name": "python3"
  },
  "language_info": {
   "codemirror_mode": {
    "name": "ipython",
    "version": 3
   },
   "file_extension": ".py",
   "mimetype": "text/x-python",
   "name": "python",
   "nbconvert_exporter": "python",
   "pygments_lexer": "ipython3",
   "version": "3.9.6"
  }
 },
 "nbformat": 4,
 "nbformat_minor": 2
}
