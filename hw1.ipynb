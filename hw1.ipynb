{
 "cells": [
  {
   "cell_type": "markdown",
   "metadata": {},
   "source": [
    "# Hw 1. Please complete the following activity and submit the notebook in LMS (learning management system). This homework is due by the end of week 3, to allow time for selecting your team and topic of the final project.\n"
   ]
  },
  {
   "cell_type": "markdown",
   "metadata": {},
   "source": [
    "# Q1(.5 point) Why we need Python virtual environments?\n",
    "\n",
    "Please write no more than 3 lines."
   ]
  },
  {
   "cell_type": "markdown",
   "metadata": {},
   "source": [
    "*write you response here*\n"
   ]
  },
  {
   "cell_type": "markdown",
   "metadata": {},
   "source": [
    "# Q2(.5 point) Sort the following list in place alphabetically using last three characters."
   ]
  },
  {
   "cell_type": "code",
   "execution_count": 1,
   "metadata": {},
   "outputs": [],
   "source": [
    "continentsL = ['Europe', 'Africa', 'America', 'Antarctica', 'Asia', 'Australia']\n",
    "# Write you code in the next line\n"
   ]
  },
  {
   "cell_type": "markdown",
   "metadata": {},
   "source": [
    "# Q3(1= .5+.5 points) We want to compare random integer generation time in numpy and random module of \"plain\" python. Generate 100 random integers in the range 1 to 10 including 1 and 10. Write jupyter notebook line magic to compare execution time of random integer generation in the following cells (look for the cells having the comment *write line magic*).  Line magic must execute the given statement  10 times in a loop and repeat the process 5 times.\n",
    "\n",
    " \n",
    " Hints:\n",
    "\n",
    " - Note that numpy.random has randint function and random has random.randint function.\n",
    " - Press shift+tab after typing above function or search their documentation to understand their parameters.\n",
    " - use ? on magic command timeit for further documentation. see how to use **-n and -r options**.\n",
    " "
   ]
  },
  {
   "cell_type": "code",
   "execution_count": 2,
   "metadata": {},
   "outputs": [],
   "source": [
    "import random\n",
    "num_sample = 100\n",
    "low = 1\n",
    "high = 10"
   ]
  },
  {
   "cell_type": "code",
   "execution_count": 3,
   "metadata": {},
   "outputs": [],
   "source": [
    "# write line magic for random module in the next line\n"
   ]
  },
  {
   "cell_type": "code",
   "execution_count": 4,
   "metadata": {},
   "outputs": [],
   "source": [
    "import numpy as np"
   ]
  },
  {
   "cell_type": "code",
   "execution_count": 5,
   "metadata": {},
   "outputs": [],
   "source": [
    "# write line magic for numpy randint in the next line\n"
   ]
  },
  {
   "cell_type": "markdown",
   "metadata": {},
   "source": [
    "<font size = \"6\"> To start working toward final project, complete the following questions by writing markdown in the same cell in next line. Each question in worth .5 point. </font>\n",
    "\n",
    "In tools 1 course, __*we are concerned with data cleaning, feature engineering and exploratory analysis. Make sure your selected final project allows for lots of data cleaning, transformation and engineering opportunity.*__ \n",
    "\n",
    "Go over project and presentation rubric in course webpage to better understand the requirement for the project.  We will evaluate the answer to see if it meets the final project requirements.\n",
    "\n",
    "\n",
    "\n",
    "<font color = \"red\" size = \"5\">If you are working in a team, we'll read only one team member notebook for the following questions. Please make sure you have identical answers for following questions.  </font>\n",
    "\n",
    "<font color =\"red\"> To edit a markdown cell you need to double click in the cell</font>"
   ]
  },
  {
   "cell_type": "markdown",
   "metadata": {},
   "source": [
    "# Q4 List your team members in bullet format. (No more than 3 members).\n",
    "Note that\n",
    "\n",
    "- **Each member** has to present a portion of the project in the final presentation.\n",
    "\n",
    "-  Final report must list the contribution of each member. \n"
   ]
  },
  {
   "cell_type": "markdown",
   "metadata": {},
   "source": [
    "* Kori Thompson\n",
    "* Dawnena Key\n",
    "* Kai Mazurczyk"
   ]
  },
  {
   "cell_type": "markdown",
   "metadata": {},
   "source": [
    "# Q5  What  problem you are trying to solve?"
   ]
  },
  {
   "cell_type": "markdown",
   "metadata": {},
   "source": [
    "We seek to understand the key factors that influence Airbnb listing prices in Denver, and how can hosts can optimize their pricing strategy to maximize occupancy and revenue. \n",
    "\n",
    "With these factors we seek to create a price recommendation/predictor based on the qualities of a property (location, type of listing, amenities, etc) as well as pricing/bookings of other Airbnbs and hotels in its neighborhood, market seasonality and events in Denver."
   ]
  },
  {
   "cell_type": "markdown",
   "metadata": {},
   "source": [
    "# Q6 Describe the attributes of examples in the dataset. If you are planning to collect the data (webscrapping, web API etc.), list the timeline to finish the data collection."
   ]
  },
  {
   "cell_type": "markdown",
   "metadata": {},
   "source": [
    "Our main data set are Airbnb listings in Denver. Airbnb does not have an API, and its Terms of Service prohibits scraping. However, Inside Airbnb provides 12 months of scraped data for many US cities with CSV files for listings, calendars and user reviews.\n",
    "\n",
    "Inside Airbnb provides our main measure/predictor: Airbnb listing price. It also includes other variables of interest, which we'll use as inputs:\n",
    "\n",
    "* Listing price\n",
    "* Cleaning fees\n",
    "* Deposit\n",
    "* Other fees and charges\n",
    "* Neighborhood/Location\n",
    "* Type of Listing\n",
    "* Number of Bedrooms\n",
    "* Minimum Nights\n",
    "* Num of Reviews\n",
    "* Review Score Rating\n",
    "* Amenities\n",
    "* Host ID (owner)\n",
    "\n",
    "For additional context, we also sourced data for: # kai looking into\n",
    "* Transportation \n",
    "* Hotel pricing/location data\n",
    "* City event data? ie football/hockey season, TSwift concert, conventions, etc.\n",
    "* AirDNA?"
   ]
  },
  {
   "cell_type": "markdown",
   "metadata": {},
   "source": [
    "# Q7 Give example of records (sample points). Explain why this is a noisy data set (highlight  portion of record attributes you think are noisy)."
   ]
  },
  {
   "cell_type": "markdown",
   "metadata": {},
   "source": [
    "<font color = \"red\" size = \"5\">To be completed after digging into Inside AirBNB dataset, and the others once we've got them </font>\n",
    "\n",
    "Inside Airbnb listing data:\n",
    "id,name,host_id,host_name,neighbourhood_group,neighbourhood,latitude,longitude,room_type,price,minimum_nights,number_of_reviews,last_review,reviews_per_month,calculated_host_listings_count,availability_365,number_of_reviews_ltm,license\n",
    "360,Sit in the Peaceful Garden of the Chickadee Cottage in LoHi,666,Jennifer & Giovanni,,Highland,39.766414642333984,-105.0020980834961,Entire home/apt,161,30,181,2024-03-02,2.53,2,110,3,2017-BFN-0002177\n",
    "364,Lodo / RiNo LOFT  via airport train,783,Jason,,Five Points,39.76672,-104.97906,Entire home/apt,179,185,87,2016-04-26,0.47,1,358,0,\n",
    "746298,Urban Retreat with Private Bath,3915386,Mary,,Lowry Field,39.72535,-104.89616,Private room,,30,91,2024-06-10,0.81,1,14,4,2016-BFN-0008025\n",
    "\n",
    "Inside Airbnb listing data has missing values in the price, last_review, reviews_per_month, and license columns which we can examine for imputation. The neighborhood_group column is null for all records and can be dropped from the dataset as it adds no value.\n",
    "\n",
    "Inside Airbnb calendar data:\n",
    "360,2025-06-28,f,$140.00,,30,182\n",
    "360,2025-06-29,f,$140.00,,30,182\n",
    "364,2024-06-30,f,$179.00,,185,365\n",
    "The adjusted_price column is null for all records and can be dropped from the dataset as it adds no value.\n",
    "\n",
    "Inside Airbnb review data:\n",
    "listing_id,date\n",
    "360,8/13/2018\n",
    "360,8/21/2018\n",
    "360,8/23/2018\n",
    "\n"
   ]
  },
  {
   "cell_type": "markdown",
   "metadata": {},
   "source": [
    "# Q8 What kind of  feature engineering opportunity you see.\n",
    "\n",
    "We'll cover feature engineering but here are some examples to get an idea of feature engineering.\n",
    "- Do you need to extract a number, year, or a word in column (attribute of a record).\n",
    "    + Perhaps extracting Miss, Mr., Dr. is more important than actual name?\n",
    "    + Maybe year or time is embbedded in the text desciption and it is important for analysis. \n",
    "- If a column has numerical values do you see a potential for using these values or a transformation of these values like square, log etc?\n",
    "\n",
    "Some options for feature engineering in with the Inside Airbnb data is to create a number of total reviews for each property. We could also create features for the ratio of days that a listing was occupied out of it total avaiable days. "
   ]
  },
  {
   "cell_type": "markdown",
   "metadata": {},
   "source": [
    "<font color = \"red\" size = \"5\">Needs fleshing out </font>\n",
    "\n",
    "\n",
    "geospatial and amenity features\n",
    "\n",
    "price normalization"
   ]
  }
 ],
 "metadata": {
  "kernelspec": {
   "display_name": "dst1_env",
   "language": "python",
   "name": "dst1_env"
  },
  "language_info": {
   "codemirror_mode": {
    "name": "ipython",
    "version": 3
   },
   "file_extension": ".py",
   "mimetype": "text/x-python",
   "name": "python",
   "nbconvert_exporter": "python",
   "pygments_lexer": "ipython3",
   "version": "3.12.1"
  },
  "toc": {
   "base_numbering": 1,
   "nav_menu": {},
   "number_sections": false,
   "sideBar": true,
   "skip_h1_title": false,
   "title_cell": "Table of Contents",
   "title_sidebar": "Contents",
   "toc_cell": false,
   "toc_position": {},
   "toc_section_display": true,
   "toc_window_display": false
  },
  "varInspector": {
   "cols": {
    "lenName": 16,
    "lenType": 16,
    "lenVar": 40
   },
   "kernels_config": {
    "python": {
     "delete_cmd_postfix": "",
     "delete_cmd_prefix": "del ",
     "library": "var_list.py",
     "varRefreshCmd": "print(var_dic_list())"
    },
    "r": {
     "delete_cmd_postfix": ") ",
     "delete_cmd_prefix": "rm(",
     "library": "var_list.r",
     "varRefreshCmd": "cat(var_dic_list()) "
    }
   },
   "types_to_exclude": [
    "module",
    "function",
    "builtin_function_or_method",
    "instance",
    "_Feature"
   ],
   "window_display": false
  }
 },
 "nbformat": 4,
 "nbformat_minor": 2
}
