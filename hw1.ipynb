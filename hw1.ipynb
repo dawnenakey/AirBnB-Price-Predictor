{
 "cells": [
  {
   "cell_type": "markdown",
   "metadata": {},
   "source": [
    "# Hw 1. Please complete the following activity and submit the notebook in LMS (learning management system). This homework is due by the end of week 3, to allow time for selecting your team and topic of the final project.\n"
   ]
  },
  {
   "cell_type": "markdown",
   "metadata": {},
   "source": [
    "# Q1(.5 point) Why we need Python virtual environments?\n",
    "\n",
    "Please write no more than 3 lines."
   ]
  },
  {
   "cell_type": "markdown",
   "metadata": {},
   "source": [
    "*write you response here*\n"
   ]
  },
  {
   "cell_type": "markdown",
   "metadata": {},
   "source": [
    "# Q2(.5 point) Sort the following list in place alphabetically using last three characters."
   ]
  },
  {
   "cell_type": "code",
   "execution_count": 1,
   "metadata": {},
   "outputs": [],
   "source": [
    "continentsL = ['Europe', 'Africa', 'America', 'Antarctica', 'Asia', 'Australia']\n",
    "# Write you code in the next line\n"
   ]
  },
  {
   "cell_type": "markdown",
   "metadata": {},
   "source": [
    "# Q3(1= .5+.5 points) We want to compare random integer generation time in numpy and random module of \"plain\" python. Generate 100 random integers in the range 1 to 10 including 1 and 10. Write jupyter notebook line magic to compare execution time of random integer generation in the following cells (look for the cells having the comment *write line magic*).  Line magic must execute the given statement  10 times in a loop and repeat the process 5 times.\n",
    "\n",
    " \n",
    " Hints:\n",
    "\n",
    " - Note that numpy.random has randint function and random has random.randint function.\n",
    " - Press shift+tab after typing above function or search their documentation to understand their parameters.\n",
    " - use ? on magic command timeit for further documentation. see how to use **-n and -r options**.\n",
    " "
   ]
  },
  {
   "cell_type": "code",
   "execution_count": 2,
   "metadata": {},
   "outputs": [],
   "source": [
    "import random\n",
    "num_sample = 100\n",
    "low = 1\n",
    "high = 10"
   ]
  },
  {
   "cell_type": "code",
   "execution_count": 3,
   "metadata": {},
   "outputs": [],
   "source": [
    "# write line magic for random module in the next line\n"
   ]
  },
  {
   "cell_type": "code",
   "execution_count": 4,
   "metadata": {},
   "outputs": [],
   "source": [
    "import numpy as np"
   ]
  },
  {
   "cell_type": "code",
   "execution_count": 5,
   "metadata": {},
   "outputs": [],
   "source": [
    "# write line magic for numpy randint in the next line\n"
   ]
  },
  {
   "cell_type": "markdown",
   "metadata": {},
   "source": [
    "<font size = \"6\"> To start working toward final project, complete the following questions by writing markdown in the same cell in next line. Each question in worth .5 point. </font>\n",
    "\n",
    "In tools 1 course, __*we are concerned with data cleaning, feature engineering and exploratory analysis. Make sure your selected final project allows for lots of data cleaning, transformation and engineering opportunity.*__ \n",
    "\n",
    "Go over project and presentation rubric in course webpage to better understand the requirement for the project.  We will evaluate the answer to see if it meets the final project requirements.\n",
    "\n",
    "\n",
    "\n",
    "<font color = \"red\" size = \"5\">If you are working in a team, we'll read only one team member notebook for the following questions. Please make sure you have identical answers for following questions.  </font>\n",
    "\n",
    "<font color =\"red\"> To edit a markdown cell you need to double click in the cell</font>"
   ]
  },
  {
   "cell_type": "markdown",
   "metadata": {},
   "source": [
    "# Q4 List your team members in bullet format. (No more than 3 members).\n",
    "Note that\n",
    "\n",
    "- **Each member** has to present a portion of the project in the final presentation.\n",
    "\n",
    "-  Final report must list the contribution of each member. \n"
   ]
  },
  {
   "cell_type": "markdown",
   "metadata": {},
   "source": [
    "* Kori Thompson\n",
    "* Dawnena Key\n",
    "* Kai Mazurczyk"
   ]
  },
  {
   "cell_type": "markdown",
   "metadata": {},
   "source": [
    "# Q5  What  problem you are trying to solve?"
   ]
  },
  {
   "cell_type": "markdown",
   "metadata": {},
   "source": [
    "We seek to understand the key factors that influence Airbnb listing prices in Denver, and how can hosts can optimize their pricing strategy to maximize occupancy and revenue. \n",
    "\n",
    "With these factors we seek to create a price recommendation/predictor based on the qualities of a property (location, type of listing, amenities, etc) as well as pricing/bookings of other Airbnbs and hotels in its neighborhood, market seasonality and events in Denver."
   ]
  },
  {
   "cell_type": "markdown",
   "metadata": {},
   "source": [
    "# Q6 Describe the attributes of examples in the dataset. If you are planning to collect the data (webscrapping, web API etc.), list the timeline to finish the data collection."
   ]
  },
  {
   "cell_type": "markdown",
   "metadata": {},
   "source": [
    "Our main data set are Airbnb listings in Denver. Airbnb does not have an API, and its Terms of Service prohibits scraping. However, Inside Airbnb provides 12 months of scraped data for many US cities with CSV files for listings, calendars and user reviews.\n",
    "\n",
    "Inside Airbnb provides our main measure/predictor: Airbnb listing price. It also includes other variables of interest, which we'll use as inputs:\n",
    "\n",
    "* Listing price\n",
    "* Cleaning fees\n",
    "* Deposit\n",
    "* Other fees and charges\n",
    "* Neighborhood/Location\n",
    "* Type of Listing\n",
    "* Number of Bedrooms\n",
    "* Minimum Nights\n",
    "* Num of Reviews\n",
    "* Review Score Rating\n",
    "* Amenities\n",
    "* Host ID (owner)\n",
    "\n",
    "For additional context, we also sourced data for: # kai looking into\n",
    "* Transportation \n",
    "* Hotel pricing/location data\n",
    "* City event data? ie football/hockey season, TSwift concert, conventions, etc.\n",
    "* AirDNA?\n",
    "\n",
    "\n",
    "/// Additional details if needed. \n",
    "We are focusing on attributes that directly impact the listing price, as well as features that help us contextualize and normalize the data for deeper insights.\n",
    "\n",
    "Main Dataset (Inside Airbnb Listings Data):\n",
    "Listing Price: The nightly price charged by the host.\n",
    "\n",
    "Target variable for our model.\n",
    "Cleaning Fees: Additional charges for cleaning after a guest's stay.\n",
    "\n",
    "Can influence guest booking decisions and total cost.\n",
    "Deposit: The security deposit required by the host.\n",
    "\n",
    "Higher deposits may affect guest willingness to book.\n",
    "Other Fees and Charges: Any extra charges beyond nightly rate and cleaning fee.\n",
    "\n",
    "May impact the overall perceived value of the listing.\n",
    "Neighborhood/Location: The neighborhood where the listing is located, with associated latitude and longitude.\n",
    "\n",
    "Key for identifying high-demand areas and proximity to attractions or city center.\n",
    "Type of Listing: Whether the listing is an entire home, private room, or shared room.\n",
    "\n",
    "Significantly impacts pricing and target guests.\n",
    "Number of Bedrooms: Total number of bedrooms available.\n",
    "\n",
    "Larger listings generally charge higher rates, especially for families or groups.\n",
    "Minimum Nights: The minimum number of nights required for a booking.\n",
    "\n",
    "Can influence guest booking patterns, particularly for short stays.\n",
    "Number of Reviews: Total number of reviews received by the listing.\n",
    "\n",
    "Serves as an indicator of listing popularity and trustworthiness.\n",
    "Review Score Rating: Average guest rating (1–5 stars).\n",
    "\n",
    "Affects guest perception and listing demand.\n",
    "Amenities: A list of available amenities such as WiFi, pool, parking, etc.\n",
    "\n",
    "Important for determining listing value and guest preferences.\n",
    "Host ID: The unique identifier of the listing's host.\n",
    "\n",
    "Allows us to track listings by the same host, which may impact pricing strategies.\n",
    "\n",
    "Geospatial Features: We plan to derive distance metrics (e.g., distance from city center, tourist attractions) from the latitude and longitude attributes. These can be used to normalize price data based on proximity to high-demand locations.\n",
    "Amenity Features: Binary features will be created for key amenities (e.g., WiFi, pool, air conditioning) to assess their impact on price.\n",
    "\n",
    "Week 1–2: Download data from Inside Airbnb and clean for analysis. This includes dropping irrelevant columns, handling missing values, and preprocessing categorical features.\n",
    "Week 3: Collect hotel pricing, city event data, and transportation data to enrich the dataset. This can be done using public data sources, scraping, or available APIs.\n",
    "Week 4: Perform feature engineering, including geospatial calculations and price normalization based on proximity and amenities."
   ]
  },
  {
   "cell_type": "markdown",
   "metadata": {},
   "source": [
    "# Q7 Give example of records (sample points). Explain why this is a noisy data set (highlight  portion of record attributes you think are noisy)."
   ]
  },
  {
   "cell_type": "code",
   "execution_count": null,
   "metadata": {},
   "outputs": [],
   "source": []
  },
  {
   "cell_type": "markdown",
   "metadata": {},
   "source": [
    "<font color = \"red\" size = \"5\">To be completed after digging into Inside AirBNB dataset, and the others once we've got them </font>\n",
    "\n",
    "Inside Airbnb listing data:\n",
    "id,name,host_id,host_name,neighbourhood_group,neighbourhood,latitude,longitude,room_type,price,minimum_nights,number_of_reviews,last_review,reviews_per_month,calculated_host_listings_count,availability_365,number_of_reviews_ltm,license\n",
    "360,Sit in the Peaceful Garden of the Chickadee Cottage in LoHi,666,Jennifer & Giovanni,,Highland,39.766414642333984,-105.0020980834961,Entire home/apt,161,30,181,2024-03-02,2.53,2,110,3,2017-BFN-0002177\n",
    "364,Lodo / RiNo LOFT  via airport train,783,Jason,,Five Points,39.76672,-104.97906,Entire home/apt,179,185,87,2016-04-26,0.47,1,358,0,\n",
    "746298,Urban Retreat with Private Bath,3915386,Mary,,Lowry Field,39.72535,-104.89616,Private room,,30,91,2024-06-10,0.81,1,14,4,2016-BFN-0008025\n",
    "\n",
    "Inside Airbnb listing data has missing values in the price, last_review, reviews_per_month, and license columns which we can examine for imputation. The neighborhood_group column is null for all records and can be dropped from the dataset as it adds no value.\n",
    "\n",
    "Inside Airbnb calendar data:\n",
    "360,2025-06-28,f,$140.00,,30,182\n",
    "360,2025-06-29,f,$140.00,,30,182\n",
    "364,2024-06-30,f,$179.00,,185,365\n",
    "The adjusted_price column is null for all records and can be dropped from the dataset as it adds no value.\n",
    "\n",
    "Inside Airbnb review data:\n",
    "listing_id,date\n",
    "360,8/13/2018\n",
    "360,8/21/2018\n",
    "360,8/23/2018\n",
    "\n",
    "// sample dataset \n",
    "\n",
    "import pandas as pd\n",
    "\n",
    "listings_df = pd.read_csv('path_to_listings.csv')\n",
    "\n",
    "print(listings_df.head())\n",
    "\n",
    "#checking missing values\n",
    "missing_values = listing_df.isnull().sum()\n",
    "print(missing_values)\n",
    "\n",
    "sample output:\n",
    "id                           0\n",
    "name                         2\n",
    "host_id                      0\n",
    "neighbourhood_group        5000  # Entirely missing, should be dropped\n",
    "neighbourhood                0\n",
    "latitude                     0\n",
    "longitude                    0\n",
    "room_type                    0\n",
    "price                        5  # Some listings have missing prices\n",
    "minimum_nights               0\n",
    "number_of_reviews            0\n",
    "review_scores_rating        50  # Missing ratings\n",
    "amenities                    0\n",
    "dtype: int64\n",
    "\n",
    "\n",
    "python code to clean noisy data: \n",
    "# Drop irrelevant columns (e.g., 'neighbourhood_group' is entirely null)\n",
    "listings_df.drop(columns=['neighbourhood_group'], inplace=True)\n",
    "\n",
    "# Impute missing values in the 'price' column with the median price\n",
    "listings_df['price'].fillna(listings_df['price'].median(), inplace=True)\n",
    "\n",
    "# Impute missing values in 'review_scores_rating' with the median rating\n",
    "listings_df['review_scores_rating'].fillna(listings_df['review_scores_rating'].median(), inplace=True)\n",
    "\n",
    "# Recheck for missing values\n",
    "print(listings_df.isnull().sum())\n",
    "\n",
    "inconsistent price format:\n",
    "# Remove currency symbols and commas from the 'price' column\n",
    "listings_df['price'] = listings_df['price'].replace({'\\$': '', ',': ''}, regex=True).astype(float)\n",
    "\n",
    "# Verify the changes\n",
    "print(listings_df[['id', 'price']].head())\n",
    "\n",
    "\n",
    "clean and extract amenities:\n",
    "# Example of extracting key amenities (WiFi, Kitchen, etc.) as binary features\n",
    "listings_df['has_wifi'] = listings_df['amenities'].apply(lambda x: 1 if 'WiFi' in x else 0)\n",
    "listings_df['has_kitchen'] = listings_df['amenities'].apply(lambda x: 1 if 'Kitchen' in x else 0)\n",
    "\n",
    "# View the new binary columns\n",
    "print(listings_df[['id', 'has_wifi', 'has_kitchen']].head())\n",
    "\n",
    "(can be modified)"
   ]
  },
  {
   "cell_type": "markdown",
   "metadata": {},
   "source": [
    "# Q8 What kind of  feature engineering opportunity you see.\n",
    "\n",
    "We'll cover feature engineering but here are some examples to get an idea of feature engineering.\n",
    "- Do you need to extract a number, year, or a word in column (attribute of a record).\n",
    "    + Perhaps extracting Miss, Mr., Dr. is more important than actual name?\n",
    "    + Maybe year or time is embbedded in the text desciption and it is important for analysis. \n",
    "- If a column has numerical values do you see a potential for using these values or a transformation of these values like square, log etc?\n",
    "\n",
    "Some options for feature engineering in with the Inside Airbnb data is to create a number of total reviews for each property. We could also create features for the ratio of days that a listing was occupied out of it total avaiable days. "
   ]
  },
  {
   "cell_type": "markdown",
   "metadata": {},
   "source": [
    "<font color = \"red\" size = \"5\">Needs fleshing out </font>\n",
    "\n",
    "\n",
    "geospatial and amenity features\n",
    "Distance to Key Landmarks. Using latitude and longitude of listings to calculate their distance. Purpose is to help influence listing prices and occupancy. Listing closer to tourists hotspots bring high demand. \n",
    "\n",
    "from geopy.distance import geodesic\n",
    "\n",
    "# Coordinates of Times Square (example landmark)\n",
    "times_square = (40.7580, -73.9855)\n",
    "\n",
    "# Function to calculate the distance from Times Square\n",
    "def calculate_distance(lat, lon):\n",
    "    return geodesic((lat, lon), times_square).km\n",
    "\n",
    "listings_df['distance_to_times_square'] = listings_df.apply(lambda row: calculate_distance(row['latitude'], row['longitude']), axis=1)\n",
    "\n",
    "Amenities into binary features. \n",
    "# Example: Extracting WiFi, Kitchen, and Air Conditioning as binary features\n",
    "listings_df['has_wifi'] = listings_df['amenities'].apply(lambda x: 1 if 'WiFi' in x else 0)\n",
    "listings_df['has_kitchen'] = listings_df['amenities'].apply(lambda x: 1 if 'Kitchen' in x else 0)\n",
    "listings_df['has_ac'] = listings_df['amenities'].apply(lambda x: 1 if 'Air conditioning' in x else 0)\n",
    "\n",
    "\n",
    "price normalization\n",
    "\n",
    "price per bedroom/guests. reveals over/underpricing \n",
    "\n",
    "# Assuming 'bedrooms' and 'accommodates' columns are available\n",
    "listings_df['price_per_bedroom'] = listings_df['price'] / listings_df['bedrooms']\n",
    "listings_df['price_per_guest'] = listings_df['price'] / listings_df['accommodates']\n"
   ]
  }
 ],
 "metadata": {
  "kernelspec": {
   "display_name": "Python 3",
   "language": "python",
   "name": "python3"
  },
  "language_info": {
   "codemirror_mode": {
    "name": "ipython",
    "version": 3
   },
   "file_extension": ".py",
   "mimetype": "text/x-python",
   "name": "python",
   "nbconvert_exporter": "python",
   "pygments_lexer": "ipython3",
   "version": "3.9.6"
  },
  "toc": {
   "base_numbering": 1,
   "nav_menu": {},
   "number_sections": false,
   "sideBar": true,
   "skip_h1_title": false,
   "title_cell": "Table of Contents",
   "title_sidebar": "Contents",
   "toc_cell": false,
   "toc_position": {},
   "toc_section_display": true,
   "toc_window_display": false
  },
  "varInspector": {
   "cols": {
    "lenName": 16,
    "lenType": 16,
    "lenVar": 40
   },
   "kernels_config": {
    "python": {
     "delete_cmd_postfix": "",
     "delete_cmd_prefix": "del ",
     "library": "var_list.py",
     "varRefreshCmd": "print(var_dic_list())"
    },
    "r": {
     "delete_cmd_postfix": ") ",
     "delete_cmd_prefix": "rm(",
     "library": "var_list.r",
     "varRefreshCmd": "cat(var_dic_list()) "
    }
   },
   "types_to_exclude": [
    "module",
    "function",
    "builtin_function_or_method",
    "instance",
    "_Feature"
   ],
   "window_display": false
  }
 },
 "nbformat": 4,
 "nbformat_minor": 2
}
